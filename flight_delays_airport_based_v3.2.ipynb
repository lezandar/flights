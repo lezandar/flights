{
 "cells": [
  {
   "cell_type": "code",
   "execution_count": 1,
   "metadata": {
    "collapsed": true
   },
   "outputs": [],
   "source": [
    "import pandas as pd\n",
    "import numpy as np\n",
    "import os\n",
    "import random\n",
    "import scipy as sp\n",
    "\n",
    "# To plot pretty figures\n",
    "%matplotlib inline\n",
    "import matplotlib\n",
    "import matplotlib.pyplot as plt"
   ]
  },
  {
   "cell_type": "markdown",
   "metadata": {},
   "source": [
    "v3.1: removing flights from not major airports"
   ]
  },
  {
   "cell_type": "markdown",
   "metadata": {
    "collapsed": true
   },
   "source": [
    "### Load flights data. Can't handle all the data together, so I'm loading a specific number of random lines.\n",
    "I also load only specific columns sincs I think the other columns are not necessary for what I want to do.\n",
    "Specifically, I want to predict whether a flight will be late or not. The only potencially useful column which I excluded from my data was day of the month, since extra 31 columns (1 for each day of the month) would be too much for my computer, though I can always implement it later"
   ]
  },
  {
   "cell_type": "code",
   "execution_count": 2,
   "metadata": {
    "collapsed": true
   },
   "outputs": [],
   "source": [
    "# total number of datapoints = 5819078 \n",
    "\n",
    "n = 5819078\n",
    "#skip = sorted(random.sample(range(1,n),n-2000))\n",
    "skip = random.sample(range(1,n),n-1000000)\n",
    "flights = pd.read_csv('flights.csv',skiprows=skip,usecols = ['MONTH','DAY_OF_WEEK','AIRLINE','ORIGIN_AIRPORT','DESTINATION_AIRPORT','SCHEDULED_DEPARTURE',\n",
    "                                                             'DEPARTURE_DELAY','ARRIVAL_DELAY','CANCELLED'],low_memory=False)\n",
    "airports = pd.read_csv('airports.csv')\n",
    "airlines = pd.read_csv('airlines.csv')\n",
    "flights = flights.sample(frac=1).reset_index(drop=True)  # here I randomize rows so that data is not chronologically sorted\n",
    "\n",
    "all_features = flights.columns.values\n",
    "#all_features"
   ]
  },
  {
   "cell_type": "markdown",
   "metadata": {},
   "source": [
    "## Analysing overall flights data at this point"
   ]
  },
  {
   "cell_type": "code",
   "execution_count": 3,
   "metadata": {
    "collapsed": true
   },
   "outputs": [],
   "source": [
    "#flights.info()\n",
    "#flights.describe()\n",
    "#flights[(~np.isnan(flights['DEPARTURE_DELAY'])) & (np.isnan(flights['ARRIVAL_DELAY']))]\n",
    "\n",
    "#for col in airlines:\n",
    "#    print (\"%d NULL values are found in column %s\" % (airlines[col].isnull().sum().sum(), col))\n",
    "\n",
    "#for col in airports:\n",
    "#    print (\"%d NULL values are found in column %s\" % (airports[col].isnull().sum().sum(), col))\n",
    "\n",
    "#for col in flights:\n",
    "#    print (\"%d NULL values are found in column %s\" % (flights[col].isnull().sum().sum(), col))\n",
    "\n",
    "#flights.plot(y=['DEPARTURE_DELAY'])"
   ]
  },
  {
   "cell_type": "markdown",
   "metadata": {},
   "source": [
    "### fixing airport data\n",
    "Some of the airports were listed using 5 digit numbers instead of 3 letter code. the code below fixes that problem. I took this code from someone on the internet. Will cite the source"
   ]
  },
  {
   "cell_type": "code",
   "execution_count": 4,
   "metadata": {
    "collapsed": true
   },
   "outputs": [],
   "source": [
    "aircode1 = pd.DataFrame.from_csv('L_AIRPORT.csv')\n",
    "aircode2 = pd.DataFrame.from_csv('L_AIRPORT_ID.csv')\n",
    "\n",
    "# Format the airport codes\n",
    "aircode1 = aircode1.reset_index()\n",
    "aircode2 = aircode2.reset_index()\n",
    "aircodes = pd.merge(aircode1,aircode2,on='Description')\n",
    "aircode_dict = dict(zip(aircodes['Code_y'].astype(str),aircodes['Code_x']))\n",
    "\n",
    "# Make sure all Origin and departing airports are strings\n",
    "flights['ORIGIN_AIRPORT'] = flights['ORIGIN_AIRPORT'].values.astype(str)\n",
    "flights['DESTINATION_AIRPORT'] = flights['DESTINATION_AIRPORT'].values.astype(str)\n",
    "\n",
    "for i in range(len(flights)):\n",
    "    if len(flights['ORIGIN_AIRPORT'][i]) != 3:\n",
    "        to_replace = flights['ORIGIN_AIRPORT'][i]\n",
    "        value = aircode_dict[flights['ORIGIN_AIRPORT'][i]]\n",
    "        flights = flights.replace(to_replace, value)\n",
    "for i in range(len(flights)):\n",
    "    if len(flights['DESTINATION_AIRPORT'][i]) != 3:\n",
    "        to_replace = flights['DESTINATION_AIRPORT'][i]\n",
    "        value = aircode_dict[flights['DESTINATION_AIRPORT'][i]]\n",
    "        flights = flights.replace(to_replace, value)"
   ]
  },
  {
   "cell_type": "markdown",
   "metadata": {},
   "source": [
    "## Creating a column describing whether the flight was late to arrivelate or got cancelled\n",
    "Again, for simplicity, I decided to combine these two features. I also chose 60min threshhold arbitrarily"
   ]
  },
  {
   "cell_type": "code",
   "execution_count": 5,
   "metadata": {
    "collapsed": true
   },
   "outputs": [],
   "source": [
    "def late_or_cancelled(x):\n",
    "#    if x['ARRIVAL_DELAY'] > 120:\n",
    "    if x['CANCELLED'] == 1 or x['ARRIVAL_DELAY'] > 80:\n",
    "        return 1\n",
    "    else:\n",
    "        return 0\n",
    "\n",
    "flights['late or cancelled'] = flights.apply(late_or_cancelled,axis = 1)\n",
    "flights = flights[flights['CANCELLED']==0]\n",
    "#predictions = flights.apply(late_or_cancelled,axis = 1)"
   ]
  },
  {
   "cell_type": "markdown",
   "metadata": {},
   "source": [
    "## Since departure time is a categorical feature, I will devide it into 4 different sections\n",
    "I will devide it into 6 hour sections stating with midnight"
   ]
  },
  {
   "cell_type": "code",
   "execution_count": 6,
   "metadata": {
    "collapsed": true
   },
   "outputs": [],
   "source": [
    "flights['SCHEDULED_DEPARTURE'] = np.ceil(flights['SCHEDULED_DEPARTURE']/600).apply(int)"
   ]
  },
  {
   "cell_type": "markdown",
   "metadata": {},
   "source": [
    "## Getting rid of unnecessary data"
   ]
  },
  {
   "cell_type": "code",
   "execution_count": 7,
   "metadata": {
    "collapsed": true
   },
   "outputs": [],
   "source": [
    "del flights['ARRIVAL_DELAY']\n",
    "del flights['DEPARTURE_DELAY']\n",
    "del flights['CANCELLED']"
   ]
  },
  {
   "cell_type": "markdown",
   "metadata": {},
   "source": [
    "## Plotting being late or not vs different features"
   ]
  },
  {
   "cell_type": "code",
   "execution_count": 8,
   "metadata": {
    "collapsed": true
   },
   "outputs": [],
   "source": [
    "Delay_vs_Day_of_Week = pd.DataFrame({'delays' : flights.groupby(['DAY_OF_WEEK'])['late or cancelled'].mean()}).reset_index()\n",
    "Delay_vs_MONTH = pd.DataFrame({'delays' : flights.groupby(['MONTH'])['late or cancelled'].mean()}).reset_index()\n",
    "Delay_vs_AIRLINE = pd.DataFrame({'delays' : flights.groupby(['AIRLINE'])['late or cancelled'].mean()}).reset_index()\n",
    "Delay_vs_SCHEDULED_DEPARTURE = pd.DataFrame({'delays' : flights.groupby(['SCHEDULED_DEPARTURE'])['late or cancelled'].mean()}).reset_index()\n",
    "\n",
    "#Delay_vs_Day_of_Week.plot(x='DAY_OF_WEEK', y='delays')\n",
    "#Delay_vs_Day_of_Week['delays'].hist(hold=None)"
   ]
  },
  {
   "cell_type": "code",
   "execution_count": 9,
   "metadata": {},
   "outputs": [
    {
     "data": {
      "text/plain": [
       "<Container object of 3 artists>"
      ]
     },
     "execution_count": 9,
     "metadata": {},
     "output_type": "execute_result"
    },
    {
     "data": {
      "image/png": "[encoded data removed]",
      "text/plain": [
       "<matplotlib.figure.Figure at 0x25680019c50>"
      ]
     },
     "metadata": {},
     "output_type": "display_data"
    }
   ],
   "source": [
    "fig, ((a,b,c,d)) = plt.subplots(4,1)\n",
    "a.stem(Delay_vs_MONTH['MONTH'], Delay_vs_MONTH['delays'], linefmt='b--', markerfmt='bo', basefmt='r-')\n",
    "b.stem(Delay_vs_Day_of_Week['DAY_OF_WEEK'], Delay_vs_Day_of_Week['delays'], linefmt='b--', markerfmt='bo', basefmt='r-')\n",
    "c.stem(range(len(Delay_vs_AIRLINE)), Delay_vs_AIRLINE['delays'], linefmt='b--', markerfmt='bo', basefmt='r-')\n",
    "d.stem(range(len(Delay_vs_SCHEDULED_DEPARTURE)), Delay_vs_SCHEDULED_DEPARTURE['delays'], linefmt='b--', markerfmt='bo', basefmt='r-')"
   ]
  },
  {
   "cell_type": "markdown",
   "metadata": {},
   "source": [
    "# Removing flights from not major airports\n",
    "There are too many airports at this point, making it hard to fit the data. I will retain only top 30 airports based on number of flights"
   ]
  },
  {
   "cell_type": "code",
   "execution_count": 10,
   "metadata": {},
   "outputs": [
    {
     "name": "stdout",
     "output_type": "stream",
     "text": [
      "(984480, 7)\n"
     ]
    }
   ],
   "source": [
    "max_Airports = 15  # max number of airports to be analyzed\n",
    "ORIGIN_AIRPORTs = set(flights.groupby(['ORIGIN_AIRPORT'])['late or cancelled'].sum().sort_values(ascending=False)[0:max_Airports].index.tolist())\n",
    "DESTINATION_AIRPORT = set(flights.groupby(['DESTINATION_AIRPORT'])['late or cancelled'].sum().sort_values(ascending=False)[0:max_Airports].index.tolist())\n",
    "airports = ORIGIN_AIRPORTs | DESTINATION_AIRPORT\n",
    "\n",
    "print(flights.shape)\n",
    "\n",
    "flights = flights[(flights['ORIGIN_AIRPORT'].isin(airports)) & (flights['DESTINATION_AIRPORT'].isin(airports))]"
   ]
  },
  {
   "cell_type": "markdown",
   "metadata": {},
   "source": [
    "## Correcting for a bias in being late vs not being late\n",
    "Typically, there is much higher number of flights which were not late or cancelled than the ones that were. This creates an imbalance later when trying to classify or fit the data. So I'm getting rid of random rows where the plane was not late.\n",
    "This way the number of rows where flights['late or cancelled']=1 or not is approximately the same. This should make predictions more accurate."
   ]
  },
  {
   "cell_type": "code",
   "execution_count": 11,
   "metadata": {
    "collapsed": true
   },
   "outputs": [],
   "source": [
    "num_late = sum(flights['late or cancelled'])\n",
    "\n",
    "flights_on_time = flights[flights['late or cancelled']==0]\n",
    "\n",
    "flights_on_time = flights_on_time.sample(frac=num_late/flights.shape[0]).reset_index(drop=True)\n",
    "flights_on_time.shape\n",
    "flights = pd.concat([flights[flights['late or cancelled']==1],flights_on_time])\n",
    "flights = flights.sample(frac=1).reset_index(drop=True)"
   ]
  },
  {
   "cell_type": "markdown",
   "metadata": {
    "collapsed": true
   },
   "source": [
    "## Converting categorical values to sparce matrixes\n",
    "At this point, all of the features are categorical, so I need to convert them into sparce matrixes using LabelBinarizer.\n",
    "I tried to do this using pipelines, but it didn't quite work. Apparently, eventhough fit_transform was working just fine for the pipeline, just fit didn't work. I need just fit alone so that later I can apply it to data for which I'll want to make a prediction."
   ]
  },
  {
   "cell_type": "code",
   "execution_count": 12,
   "metadata": {
    "collapsed": true
   },
   "outputs": [],
   "source": [
    "from sklearn.preprocessing import LabelBinarizer\n",
    "\n",
    "MONTH_LabBin = LabelBinarizer()\n",
    "MONTH_LabBin.fit(flights['MONTH'])\n",
    "MONTH_binarized = np.array(MONTH_LabBin.transform(flights['MONTH']))\n",
    "\n",
    "DAY_OF_WEEK_LabBin = LabelBinarizer()\n",
    "DAY_OF_WEEK_LabBin.fit(flights['DAY_OF_WEEK'])\n",
    "DAY_OF_WEEK_binarized = np.array(DAY_OF_WEEK_LabBin.transform(flights['DAY_OF_WEEK']))\n",
    "\n",
    "AIRLINE_LabBin = LabelBinarizer()\n",
    "AIRLINE_LabBin.fit(flights['AIRLINE'])\n",
    "AIRLINE_binarized = np.array(MONTH_LabBin.transform(flights['AIRLINE']))\n",
    "\n",
    "ORIGIN_AIRPORT_LabBin = LabelBinarizer()\n",
    "ORIGIN_AIRPORT_LabBin.fit(flights['ORIGIN_AIRPORT'])\n",
    "ORIGIN_AIRPORT_binarized = np.array(DAY_OF_WEEK_LabBin.transform(flights['ORIGIN_AIRPORT']))\n",
    "\n",
    "DESTINATION_AIRPORT_LabBin = LabelBinarizer()\n",
    "DESTINATION_AIRPORT_LabBin.fit(flights['DESTINATION_AIRPORT'])\n",
    "DESTINATION_AIRPORT_binarized = np.array(MONTH_LabBin.transform(flights['DESTINATION_AIRPORT']))\n",
    "\n",
    "SCHEDULED_DEPARTURE_LabBin = LabelBinarizer()\n",
    "SCHEDULED_DEPARTURE_LabBin.fit(flights['SCHEDULED_DEPARTURE'])\n",
    "SCHEDULED_DEPARTURE_binarized = np.array(DAY_OF_WEEK_LabBin.transform(flights['SCHEDULED_DEPARTURE']))\n",
    "\n",
    "# flights_binarized will contain all data in sparce matrix form\n",
    "flights_binarized = np.concatenate((MONTH_binarized,DAY_OF_WEEK_binarized,AIRLINE_binarized,ORIGIN_AIRPORT_binarized,\n",
    "                                    DESTINATION_AIRPORT_binarized,SCHEDULED_DEPARTURE_binarized),axis=1)\n"
   ]
  },
  {
   "cell_type": "markdown",
   "metadata": {},
   "source": [
    "# split into test and training set"
   ]
  },
  {
   "cell_type": "code",
   "execution_count": 13,
   "metadata": {},
   "outputs": [],
   "source": [
    "# splitting data into test and training sets\n",
    "from sklearn.model_selection import train_test_split\n",
    "\n",
    "train_set, test_set, train_set_target, test_set_target = train_test_split(flights_binarized, flights['late or cancelled'], test_size = 0.2, random_state=42)"
   ]
  },
  {
   "cell_type": "markdown",
   "metadata": {},
   "source": [
    "# fit data using linear regression\n",
    "using a primitive model, not expecting any good results"
   ]
  },
  {
   "cell_type": "code",
   "execution_count": 14,
   "metadata": {
    "scrolled": true
   },
   "outputs": [
    {
     "data": {
      "text/plain": [
       "LinearRegression(copy_X=True, fit_intercept=True, n_jobs=1, normalize=False)"
      ]
     },
     "execution_count": 14,
     "metadata": {},
     "output_type": "execute_result"
    }
   ],
   "source": [
    "# using simple linear regression\n",
    "from sklearn.linear_model import LinearRegression\n",
    "\n",
    "lin_reg = LinearRegression()\n",
    "lin_reg.fit(train_set,train_set_target)"
   ]
  },
  {
   "cell_type": "code",
   "execution_count": 15,
   "metadata": {},
   "outputs": [
    {
     "data": {
      "text/plain": [
       "array([[3124, 2506],\n",
       "       [2024, 3926]])"
      ]
     },
     "execution_count": 15,
     "metadata": {},
     "output_type": "execute_result"
    }
   ],
   "source": [
    "from sklearn.metrics import confusion_matrix\n",
    "confusion_matrix(train_set_target,(lin_reg.predict(train_set)).round())"
   ]
  },
  {
   "cell_type": "markdown",
   "metadata": {},
   "source": [
    "# Ridge Regression"
   ]
  },
  {
   "cell_type": "code",
   "execution_count": 16,
   "metadata": {},
   "outputs": [
    {
     "data": {
      "text/plain": [
       "array([[3101, 2529],\n",
       "       [2004, 3946]])"
      ]
     },
     "execution_count": 16,
     "metadata": {},
     "output_type": "execute_result"
    }
   ],
   "source": [
    "# using ridge regression\n",
    "# I don't expect this to help much. It should help to avoid overfitting, but I'm clearly underfitting data so it is kind of useless.\n",
    "from sklearn.linear_model import Ridge\n",
    "ridge_reg = Ridge(alpha=1, solver=\"cholesky\")\n",
    "ridge_reg.fit(train_set,train_set_target)\n",
    "\n",
    "confusion_matrix(train_set_target,(ridge_reg.predict(train_set)).round())"
   ]
  },
  {
   "cell_type": "markdown",
   "metadata": {},
   "source": [
    "# SGD Regression (L2)"
   ]
  },
  {
   "cell_type": "code",
   "execution_count": 17,
   "metadata": {},
   "outputs": [
    {
     "data": {
      "text/plain": [
       "array([[3134, 2496],\n",
       "       [2042, 3908]])"
      ]
     },
     "execution_count": 17,
     "metadata": {},
     "output_type": "execute_result"
    }
   ],
   "source": [
    "from sklearn.linear_model import SGDRegressor\n",
    "sgd_reg = SGDRegressor(penalty=\"l2\")\n",
    "sgd_reg.fit(train_set,train_set_target)\n",
    "confusion_matrix(train_set_target,(sgd_reg.predict(train_set)).round())"
   ]
  },
  {
   "cell_type": "markdown",
   "metadata": {},
   "source": [
    "# Decision Tree\n",
    "Decision Tree with default values seems to have worked the best so far, so I will attempt Random forest."
   ]
  },
  {
   "cell_type": "code",
   "execution_count": 18,
   "metadata": {},
   "outputs": [
    {
     "data": {
      "text/plain": [
       "DecisionTreeRegressor(criterion='mse', max_depth=None, max_features=None,\n",
       "           max_leaf_nodes=None, min_impurity_split=1e-07,\n",
       "           min_samples_leaf=1, min_samples_split=2,\n",
       "           min_weight_fraction_leaf=0.0, presort=False, random_state=None,\n",
       "           splitter='best')"
      ]
     },
     "execution_count": 18,
     "metadata": {},
     "output_type": "execute_result"
    }
   ],
   "source": [
    "from sklearn.tree import DecisionTreeRegressor\n",
    "\n",
    "tree_reg = DecisionTreeRegressor()\n",
    "tree_reg.fit(train_set,train_set_target)"
   ]
  },
  {
   "cell_type": "code",
   "execution_count": 19,
   "metadata": {},
   "outputs": [
    {
     "data": {
      "text/plain": [
       "array([[3240, 2390],\n",
       "       [1768, 4182]])"
      ]
     },
     "execution_count": 19,
     "metadata": {},
     "output_type": "execute_result"
    }
   ],
   "source": [
    "confusion_matrix(train_set_target,(tree_reg.predict(train_set)).round())"
   ]
  },
  {
   "cell_type": "code",
   "execution_count": 20,
   "metadata": {
    "collapsed": true
   },
   "outputs": [],
   "source": [
    "from sklearn.model_selection import cross_val_score\n",
    "#scores = cross_val_score(tree_reg, train_set,train_set_target, scoring = \"neg_mean_squared_error\", cv=10)"
   ]
  },
  {
   "cell_type": "markdown",
   "metadata": {},
   "source": [
    "# Random forest search"
   ]
  },
  {
   "cell_type": "code",
   "execution_count": 21,
   "metadata": {},
   "outputs": [
    {
     "data": {
      "text/plain": [
       "RandomForestRegressor(bootstrap=True, criterion='mse', max_depth=None,\n",
       "           max_features='auto', max_leaf_nodes=None,\n",
       "           min_impurity_split=1e-07, min_samples_leaf=1,\n",
       "           min_samples_split=2, min_weight_fraction_leaf=0.0,\n",
       "           n_estimators=10, n_jobs=1, oob_score=False, random_state=None,\n",
       "           verbose=0, warm_start=False)"
      ]
     },
     "execution_count": 21,
     "metadata": {},
     "output_type": "execute_result"
    }
   ],
   "source": [
    "from sklearn.ensemble import RandomForestRegressor\n",
    "forest_reg = RandomForestRegressor()\n",
    "forest_reg.fit(train_set,train_set_target)"
   ]
  },
  {
   "cell_type": "code",
   "execution_count": 22,
   "metadata": {},
   "outputs": [
    {
     "data": {
      "text/plain": [
       "array([[3279, 2351],\n",
       "       [1815, 4135]])"
      ]
     },
     "execution_count": 22,
     "metadata": {},
     "output_type": "execute_result"
    }
   ],
   "source": [
    "confusion_matrix(train_set_target,(forest_reg.predict(train_set)).round())"
   ]
  },
  {
   "cell_type": "markdown",
   "metadata": {},
   "source": [
    "# GridSearch for RandomForest\n",
    "Random Forest did the best so far, so I'll try gridsearch to get the best conditions for random forest model"
   ]
  },
  {
   "cell_type": "code",
   "execution_count": 23,
   "metadata": {},
   "outputs": [
    {
     "data": {
      "text/plain": [
       "GridSearchCV(cv=5, error_score='raise',\n",
       "       estimator=RandomForestRegressor(bootstrap=True, criterion='mse', max_depth=None,\n",
       "           max_features='auto', max_leaf_nodes=None,\n",
       "           min_impurity_split=1e-07, min_samples_leaf=1,\n",
       "           min_samples_split=2, min_weight_fraction_leaf=0.0,\n",
       "           n_estimators=10, n_jobs=1, oob_score=False, random_state=None,\n",
       "           verbose=0, warm_start=False),\n",
       "       fit_params={}, iid=True, n_jobs=1,\n",
       "       param_grid=[{'n_estimators': [3, 10, 30, 100], 'max_features': [5, 10, 50]}],\n",
       "       pre_dispatch='2*n_jobs', refit=True, return_train_score=True,\n",
       "       scoring='neg_mean_squared_error', verbose=0)"
      ]
     },
     "execution_count": 23,
     "metadata": {},
     "output_type": "execute_result"
    }
   ],
   "source": [
    "from sklearn.model_selection import GridSearchCV\n",
    "\n",
    "param_grid = [{'n_estimators': [3,10,30,100],'max_features':[5,10,50]}]\n",
    "forest_reg = RandomForestRegressor()\n",
    "grid_search = GridSearchCV(forest_reg, param_grid, cv=5, scoring='neg_mean_squared_error')\n",
    "grid_search.fit(train_set,train_set_target)"
   ]
  },
  {
   "cell_type": "code",
   "execution_count": 24,
   "metadata": {},
   "outputs": [
    {
     "data": {
      "text/plain": [
       "array([[3218, 2412],\n",
       "       [1747, 4203]])"
      ]
     },
     "execution_count": 24,
     "metadata": {},
     "output_type": "execute_result"
    }
   ],
   "source": [
    "# confusion matrix for training set\n",
    "confusion_matrix(train_set_target,(grid_search.predict(train_set)).round())"
   ]
  },
  {
   "cell_type": "code",
   "execution_count": 25,
   "metadata": {},
   "outputs": [
    {
     "data": {
      "text/plain": [
       "RandomForestRegressor(bootstrap=True, criterion='mse', max_depth=None,\n",
       "           max_features=10, max_leaf_nodes=None, min_impurity_split=1e-07,\n",
       "           min_samples_leaf=1, min_samples_split=2,\n",
       "           min_weight_fraction_leaf=0.0, n_estimators=100, n_jobs=1,\n",
       "           oob_score=False, random_state=None, verbose=0, warm_start=False)"
      ]
     },
     "execution_count": 25,
     "metadata": {},
     "output_type": "execute_result"
    }
   ],
   "source": [
    "grid_search.best_estimator_"
   ]
  },
  {
   "cell_type": "code",
   "execution_count": 26,
   "metadata": {},
   "outputs": [
    {
     "data": {
      "text/plain": [
       "array([[789, 642],\n",
       "       [506, 959]])"
      ]
     },
     "execution_count": 26,
     "metadata": {},
     "output_type": "execute_result"
    }
   ],
   "source": [
    "# confusion matrix for test set\n",
    "confusion_matrix(test_set_target,(grid_search.predict(test_set)).round())"
   ]
  },
  {
   "cell_type": "code",
   "execution_count": 31,
   "metadata": {},
   "outputs": [],
   "source": [
    "predictions = grid_search.predict(train_set)\n",
    "grid_reg_results = pd.DataFrame({'True':train_set_target, 'predict':predictions})"
   ]
  },
  {
   "cell_type": "code",
   "execution_count": 33,
   "metadata": {},
   "outputs": [],
   "source": [
    "#grid_reg_results[grid_reg_results['predict']>0.85]['True'].sum()/grid_reg_results[grid_reg_results['predict']>0.85]['True'].shape[0]"
   ]
  },
  {
   "cell_type": "code",
   "execution_count": 34,
   "metadata": {
    "collapsed": true
   },
   "outputs": [],
   "source": [
    "def comparison_col(x):\n",
    "    # True pos = 1, True neg = 2, False pos = 3, false neg = 4\n",
    "    if (x['True'] == 1) & (x['predict'] > 0.5):\n",
    "        return 1\n",
    "    elif (x['True'] == 0) & (x['predict'] < 0.5):\n",
    "        return 2\n",
    "    elif (x['True'] == 0) & (x['predict'] > 0.5):\n",
    "        return 3\n",
    "    elif (x['True'] == 1) & (x['predict'] < 0.5):\n",
    "        return 4"
   ]
  },
  {
   "cell_type": "code",
   "execution_count": 36,
   "metadata": {},
   "outputs": [],
   "source": [
    "grid_reg_results['Comparison'] = grid_reg_results.apply(comparison_col, axis = 1)\n"
   ]
  },
  {
   "cell_type": "code",
   "execution_count": 38,
   "metadata": {},
   "outputs": [
    {
     "data": {
      "text/plain": [
       "(0, 1)"
      ]
     },
     "execution_count": 38,
     "metadata": {},
     "output_type": "execute_result"
    },
    {
     "data": {
      "image/png": "[encoded data removed]",
      "text/plain": [
       "<matplotlib.figure.Figure at 0x2568c43a320>"
      ]
     },
     "metadata": {},
     "output_type": "display_data"
    }
   ],
   "source": [
    "fig, ((a,b)) = plt.subplots(2,1,figsize=(16, 4))\n",
    "a.hist(grid_reg_results[grid_reg_results['True']==1]['predict'],alpha=0.7, bins=31)\n",
    "b.hist(grid_reg_results[grid_reg_results['True']==0]['predict'],alpha=0.7, bins=31)\n",
    "a.set_xlim([0,1])\n",
    "b.set_xlim([0,1])"
   ]
  },
  {
   "cell_type": "markdown",
   "metadata": {},
   "source": [
    "# Plotting histograms of my results\n",
    "Blue color shows correctly predicted results, orange shows incorrect predictions."
   ]
  },
  {
   "cell_type": "code",
   "execution_count": 39,
   "metadata": {},
   "outputs": [
    {
     "data": {
      "text/plain": [
       "(array([   9.,   19.,    9.,   19.,   55.,   51.,   70.,   54.,  146.,\n",
       "         104.,  138.,  185.,  193.,  161.,  165.,  308.,  189.,  312.,\n",
       "         407.,  207.,  245.,   99.,  168.,  203.,  274.,  157.,   95.,\n",
       "          59.,   11.,   47.]),\n",
       " array([ 0.11404755,  0.13758381,  0.16112008,  0.18465634,  0.20819261,\n",
       "         0.23172888,  0.25526514,  0.27880141,  0.30233767,  0.32587394,\n",
       "         0.34941021,  0.37294647,  0.39648274,  0.420019  ,  0.44355527,\n",
       "         0.46709154,  0.4906278 ,  0.51416407,  0.53770033,  0.5612366 ,\n",
       "         0.58477287,  0.60830913,  0.6318454 ,  0.65538166,  0.67891793,\n",
       "         0.7024542 ,  0.72599046,  0.74952673,  0.77306299,  0.79659926,\n",
       "         0.82013553]),\n",
       " <a list of 30 Patch objects>)"
      ]
     },
     "execution_count": 39,
     "metadata": {},
     "output_type": "execute_result"
    },
    {
     "data": {
      "image/png": "[encoded data removed]",
      "text/plain": [
       "<matplotlib.figure.Figure at 0x2568c4060b8>"
      ]
     },
     "metadata": {},
     "output_type": "display_data"
    }
   ],
   "source": [
    "plt.hist(grid_reg_results[grid_reg_results['Comparison'].isin([1,2])]['predict'],alpha=0.7, bins=30)\n",
    "plt.hist(grid_reg_results[grid_reg_results['Comparison'].isin([3,4])]['predict'],alpha=0.7, bins=30)"
   ]
  },
  {
   "cell_type": "code",
   "execution_count": 40,
   "metadata": {
    "collapsed": true
   },
   "outputs": [],
   "source": [
    "test_predictions = tree_reg.predict(test_set)\n",
    "test_forest_reg_results = pd.DataFrame({'True':test_set_target, 'predict':test_predictions})\n",
    "test_forest_reg_results['Comparison'] = test_forest_reg_results.apply(comparison_col, axis = 1)\n"
   ]
  },
  {
   "cell_type": "code",
   "execution_count": 41,
   "metadata": {},
   "outputs": [
    {
     "data": {
      "text/plain": [
       "(array([  13.,    0.,    0.,    0.,    5.,    9.,    5.,    7.,   38.,\n",
       "          23.,   15.,   31.,   36.,   47.,   58.,   54.,   58.,   75.,\n",
       "          44.,   80.,  108.,   63.,   50.,   43.,   69.,   72.,   51.,\n",
       "          37.,    2.,   14.]),\n",
       " array([ 0.        ,  0.02745098,  0.05490196,  0.08235294,  0.10980392,\n",
       "         0.1372549 ,  0.16470588,  0.19215686,  0.21960784,  0.24705882,\n",
       "         0.2745098 ,  0.30196078,  0.32941176,  0.35686275,  0.38431373,\n",
       "         0.41176471,  0.43921569,  0.46666667,  0.49411765,  0.52156863,\n",
       "         0.54901961,  0.57647059,  0.60392157,  0.63137255,  0.65882353,\n",
       "         0.68627451,  0.71372549,  0.74117647,  0.76862745,  0.79607843,\n",
       "         0.82352941]),\n",
       " <a list of 30 Patch objects>)"
      ]
     },
     "execution_count": 41,
     "metadata": {},
     "output_type": "execute_result"
    },
    {
     "data": {
      "image/png": "[encoded data removed]",
      "text/plain": [
       "<matplotlib.figure.Figure at 0x2568bbb7470>"
      ]
     },
     "metadata": {},
     "output_type": "display_data"
    }
   ],
   "source": [
    "plt.hist(test_forest_reg_results[test_forest_reg_results['Comparison'].isin([1,2])]['predict'],alpha=0.7, bins=30)\n",
    "plt.hist(test_forest_reg_results[test_forest_reg_results['Comparison'].isin([3,4])]['predict'],alpha=0.7, bins=30)"
   ]
  },
  {
   "cell_type": "code",
   "execution_count": null,
   "metadata": {
    "collapsed": true
   },
   "outputs": [],
   "source": []
  }
 ],
 "metadata": {
  "kernelspec": {
   "display_name": "Python 3",
   "language": "python",
   "name": "python3"
  },
  "language_info": {
   "codemirror_mode": {
    "name": "ipython",
    "version": 3
   },
   "file_extension": ".py",
   "mimetype": "text/x-python",
   "name": "python",
   "nbconvert_exporter": "python",
   "pygments_lexer": "ipython3",
   "version": "3.6.1"
  }
 },
 "nbformat": 4,
 "nbformat_minor": 2
}
