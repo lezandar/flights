{
 "cells": [
  {
   "cell_type": "code",
   "execution_count": 1,
   "metadata": {
    "collapsed": true
   },
   "outputs": [],
   "source": [
    "import pandas as pd\n",
    "import numpy as np\n",
    "import os\n",
    "import random\n",
    "import scipy as sp\n",
    "from sklearn.metrics import confusion_matrix\n",
    "\n",
    "# To plot pretty figures\n",
    "%matplotlib inline\n",
    "import matplotlib\n",
    "import matplotlib.pyplot as plt"
   ]
  },
  {
   "cell_type": "markdown",
   "metadata": {},
   "source": [
    "# notes:\n",
    "#v3.1: removing flights from not major airports.\n",
    "#v3.3: remove the feature of MONTH da instead use the week of year\n",
    "#v3.4: removed some extra fittings methods which were performing worse than others"
   ]
  },
  {
   "cell_type": "markdown",
   "metadata": {
    "collapsed": true
   },
   "source": [
    "### Load flights data. Can't handle all the data together, so I'm loading a specific number of random lines.\n",
    "#I also load only specific columns sincs I think the other columns are not necessary for what I want to do.\n",
    "Specifically, I want to predict whether a flight will be late or not. The only potencially useful column which I excluded from my data was day of the month, since extra 31 columns (1 for each day of the month) would be too much for my computer, though I can always implement it later\n",
    "#note: in v3.3 I loaded \"DAY\" column, and later used it to calculate the # of week of the year. I next included this column in my calculations but removed the \"MONTH\" column since together with the \"WEEK\" column it became redundant."
   ]
  },
  {
   "cell_type": "code",
   "execution_count": 2,
   "metadata": {
    "collapsed": true
   },
   "outputs": [],
   "source": [
    "# total number of datapoints = 5819078 \n",
    "\n",
    "n = 5819078\n",
    "#skip = sorted(random.sample(range(1,n),n-2000))\n",
    "skip = random.sample(range(1,n),n-2000000)\n",
    "flights = pd.read_csv('flights.csv',skiprows=skip,usecols = ['MONTH','DAY','DAY_OF_WEEK','AIRLINE','ORIGIN_AIRPORT','DESTINATION_AIRPORT','SCHEDULED_DEPARTURE',\n",
    "                                                             'DEPARTURE_DELAY','ARRIVAL_DELAY','CANCELLED'],low_memory=False)\n",
    "airports = pd.read_csv('airports.csv')\n",
    "airlines = pd.read_csv('airlines.csv')\n",
    "flights = flights.sample(frac=1).reset_index(drop=True)  # here I randomize rows so that data is not chronologically sorted\n",
    "\n",
    "all_features = flights.columns.values\n",
    "#all_features"
   ]
  },
  {
   "cell_type": "markdown",
   "metadata": {},
   "source": [
    "### fixing airport data\n",
    "Some of the airports were listed using 5 digit numbers instead of 3 letter code. The code below fixes that problem. I used code by Scott Cole as a template for this section (see the link below).\n",
    "https://www.kaggle.com/srcole/fix-inconsistent-airport-codes"
   ]
  },
  {
   "cell_type": "code",
   "execution_count": 4,
   "metadata": {
    "collapsed": true
   },
   "outputs": [],
   "source": [
    "aircode1 = pd.DataFrame.from_csv('L_AIRPORT.csv')\n",
    "aircode2 = pd.DataFrame.from_csv('L_AIRPORT_ID.csv')\n",
    "\n",
    "# Format the airport codes\n",
    "aircode1 = aircode1.reset_index()\n",
    "aircode2 = aircode2.reset_index()\n",
    "aircodes = pd.merge(aircode1,aircode2,on='Description')\n",
    "aircode_dict = dict(zip(aircodes['Code_y'].astype(str),aircodes['Code_x']))\n",
    "\n",
    "# Make sure all Origin and departing airports are strings\n",
    "flights['ORIGIN_AIRPORT'] = flights['ORIGIN_AIRPORT'].values.astype(str)\n",
    "flights['DESTINATION_AIRPORT'] = flights['DESTINATION_AIRPORT'].values.astype(str)\n",
    "\n",
    "for i in range(len(flights)):\n",
    "    if len(flights['ORIGIN_AIRPORT'][i]) != 3:\n",
    "        to_replace = flights['ORIGIN_AIRPORT'][i]\n",
    "        value = aircode_dict[flights['ORIGIN_AIRPORT'][i]]\n",
    "        flights = flights.replace(to_replace, value)\n",
    "for i in range(len(flights)):\n",
    "    if len(flights['DESTINATION_AIRPORT'][i]) != 3:\n",
    "        to_replace = flights['DESTINATION_AIRPORT'][i]\n",
    "        value = aircode_dict[flights['DESTINATION_AIRPORT'][i]]\n",
    "        flights = flights.replace(to_replace, value)"
   ]
  },
  {
   "cell_type": "markdown",
   "metadata": {},
   "source": [
    "# Enter the name of the airport\n",
    "Limid the analysis to the specific airport to improve results and reduce processing time."
   ]
  },
  {
   "cell_type": "code",
   "execution_count": 5,
   "metadata": {},
   "outputs": [
    {
     "name": "stdout",
     "output_type": "stream",
     "text": [
      "Specify the departure airport (three letters) or put ALL:  IAH\n"
     ]
    }
   ],
   "source": [
    "Depart_airport = str(input(\"Specify the departure airport (three letters) or put ALL:  \")).upper()\n",
    "if Depart_airport in list(flights['ORIGIN_AIRPORT']):\n",
    "    flights = flights[flights['ORIGIN_AIRPORT']== Depart_airport]\n",
    "else:\n",
    "    print(\"incorrect airport code\")\n",
    "#flights = flights[flights['ORIGIN_AIRPORT']=='LAS']"
   ]
  },
  {
   "cell_type": "markdown",
   "metadata": {},
   "source": [
    "## Creating a column describing whether the flight was late to arrivelate or got cancelled\n",
    "Again, for simplicity, I decided to combine these two features. I also chose 60min threshhold arbitrarily"
   ]
  },
  {
   "cell_type": "code",
   "execution_count": 6,
   "metadata": {
    "collapsed": true
   },
   "outputs": [],
   "source": [
    "def late_or_cancelled(x):\n",
    "#    if x['ARRIVAL_DELAY'] > 60:\n",
    "    if x['CANCELLED'] == 1 or x['ARRIVAL_DELAY'] > 60:\n",
    "        return 1\n",
    "    else:\n",
    "        return 0\n",
    "\n",
    "flights['late or cancelled'] = flights.apply(late_or_cancelled,axis = 1)\n",
    "flights = flights[flights['CANCELLED']==0]\n",
    "#predictions = flights.apply(late_or_cancelled,axis = 1)"
   ]
  },
  {
   "cell_type": "markdown",
   "metadata": {},
   "source": [
    "# A function to change column Day from 1-31 to 1-365\n",
    "Later I will change this into a week of year. The reason is that individual days will be too much to account for since they will give 365 columns in the end, while the week of year will give only 52. This could also be too much, but I'll see. Technically I could even remove the month since the week of a year will account for the month as well."
   ]
  },
  {
   "cell_type": "code",
   "execution_count": 7,
   "metadata": {
    "collapsed": true
   },
   "outputs": [],
   "source": [
    "days_in_month = np.array([31,28,31,30,31,30,31,31,30,31,30,31])\n",
    "def day_31_to_365(x):\n",
    "    days_365 = days_in_month[:x['MONTH']-1].sum() + x['DAY']\n",
    "    return days_365"
   ]
  },
  {
   "cell_type": "markdown",
   "metadata": {},
   "source": [
    "# Calculate the number of week and use it instead of month\n",
    "MONTH column becomes redundant after adding the column for week"
   ]
  },
  {
   "cell_type": "code",
   "execution_count": 8,
   "metadata": {
    "collapsed": true
   },
   "outputs": [],
   "source": [
    "flights['DAY'] = flights.apply(day_31_to_365,axis = 1)\n",
    "flights['WEEK'] = flights['DAY']//7\n",
    "del flights['DAY']"
   ]
  },
  {
   "cell_type": "markdown",
   "metadata": {},
   "source": [
    "## Since departure time is a categorical feature, I will devide it into 4 different sections\n",
    "I will devide it into 6 hour sections stating with midnight"
   ]
  },
  {
   "cell_type": "code",
   "execution_count": 9,
   "metadata": {
    "collapsed": true
   },
   "outputs": [],
   "source": [
    "flights['SCHEDULED_DEPARTURE'] = np.ceil(flights['SCHEDULED_DEPARTURE']/600).apply(int)"
   ]
  },
  {
   "cell_type": "markdown",
   "metadata": {},
   "source": [
    "## Getting rid of unnecessary data"
   ]
  },
  {
   "cell_type": "code",
   "execution_count": 10,
   "metadata": {
    "collapsed": true
   },
   "outputs": [],
   "source": [
    "del flights['ARRIVAL_DELAY']\n",
    "del flights['DEPARTURE_DELAY']\n",
    "del flights['CANCELLED']"
   ]
  },
  {
   "cell_type": "markdown",
   "metadata": {},
   "source": [
    "## Plotting being late or not vs different features"
   ]
  },
  {
   "cell_type": "code",
   "execution_count": 11,
   "metadata": {
    "collapsed": true
   },
   "outputs": [],
   "source": [
    "Delay_vs_Day_of_Week = pd.DataFrame({'delays' : flights.groupby(['DAY_OF_WEEK'])['late or cancelled'].mean()}).reset_index()\n",
    "Delay_vs_WEEK = pd.DataFrame({'delays' : flights.groupby(['WEEK'])['late or cancelled'].mean()}).reset_index()\n",
    "Delay_vs_AIRLINE = pd.DataFrame({'delays' : flights.groupby(['AIRLINE'])['late or cancelled'].mean()})#.reset_index()\n",
    "Delay_vs_SCHEDULED_DEPARTURE = pd.DataFrame({'delays' : flights.groupby(['SCHEDULED_DEPARTURE'])['late or cancelled'].mean()}).reset_index()\n",
    "\n",
    "#Delay_vs_Day_of_Week.plot(x='DAY_OF_WEEK', y='delays')\n",
    "#Delay_vs_Day_of_Week['delays'].hist(hold=None)"
   ]
  },
  {
   "cell_type": "code",
   "execution_count": 12,
   "metadata": {},
   "outputs": [
    {
     "data": {
      "text/plain": [
       "<Container object of 3 artists>"
      ]
     },
     "execution_count": 12,
     "metadata": {},
     "output_type": "execute_result"
    },
    {
     "data": {
      "image/png": "[encoded data removed]",
      "text/plain": [
       "<matplotlib.figure.Figure at 0x1a51ce88358>"
      ]
     },
     "metadata": {},
     "output_type": "display_data"
    }
   ],
   "source": [
    "fig = plt.figure(figsize=(18.5, 10.5))\n",
    "#fig.text(0.5, 0.5, 'Axes 1', ha='center', va='center', size=48, alpha=.5)\n",
    "sub1 = fig.add_subplot(221) # instead of plt.subplot(2, 2, 1)\n",
    "sub1.set_title('Week of Year', fontsize=18, color=\"blue\") # non OOP: plt.title('The function f')\n",
    "sub1.stem(Delay_vs_WEEK['WEEK'], Delay_vs_WEEK['delays'], linefmt='b--', markerfmt='bo', basefmt='r-')\n",
    "\n",
    "sub2 = fig.add_subplot(222)\n",
    "sub2.set_title('Day of Week', fontsize=18, color=\"blue\")\n",
    "sub2.stem(Delay_vs_Day_of_Week['DAY_OF_WEEK'], Delay_vs_Day_of_Week['delays'], linefmt='b--', markerfmt='bo', basefmt='r-')\n",
    "sub2.set_xticklabels(['Mon','Tue','Wed','Thu','Fri','Sat','Sun'])\n",
    "\n",
    "sub3 = fig.add_subplot(223)\n",
    "sub3.set_title('Airline', fontsize=18, color=\"blue\")\n",
    "sub3.stem(range(len(Delay_vs_AIRLINE)), Delay_vs_AIRLINE['delays'], linefmt='b--', markerfmt='bo', basefmt='r-')\n",
    "sub3.set_xticks(range(len(Delay_vs_AIRLINE)))\n",
    "sub3.set_xticklabels(Delay_vs_AIRLINE.index)\n",
    "\n",
    "sub4 = fig.add_subplot(224)\n",
    "sub4.set_title('Scheduled Departure Time', fontsize=18, color=\"blue\")\n",
    "sub4.set_xticks([0, 1, 2, 3])\n",
    "sub4.set_xticklabels(['00:00 - 06:00','06:00 - 12:00','12:00 - 18:00','18:00 - 00:00'])\n",
    "sub4.stem(range(len(Delay_vs_SCHEDULED_DEPARTURE)), Delay_vs_SCHEDULED_DEPARTURE['delays'], linefmt='b--', markerfmt='bo', basefmt='r-')\n",
    "#plt.tight_layout()\n",
    "#plt.show()"
   ]
  },
  {
   "cell_type": "markdown",
   "metadata": {},
   "source": [
    "# Removing flights from not major airports (Currently disabled)\n",
    "This section allows to use the data from a specific number of airports, allowing to exclude for example airports with low number of flights which could mess with the statistics.\n",
    "\n",
    "## This section is not currently being used for my calculations"
   ]
  },
  {
   "cell_type": "markdown",
   "metadata": {},
   "source": [
    "max_Airports = 15  # max number of airports to be analyzed\n",
    "ORIGIN_AIRPORTs = set(flights.groupby(['ORIGIN_AIRPORT'])['late or cancelled'].sum().sort_values(ascending=False)[0:max_Airports].index.tolist())\n",
    "DESTINATION_AIRPORT = set(flights.groupby(['DESTINATION_AIRPORT'])['late or cancelled'].sum().sort_values(ascending=False)[0:max_Airports].index.tolist())\n",
    "airports = ORIGIN_AIRPORTs | DESTINATION_AIRPORT\n",
    "\n",
    "print(flights.shape)\n",
    "\n",
    "#flights = flights[(flights['ORIGIN_AIRPORT'].isin(airports))]# & (flights['DESTINATION_AIRPORT'].isin(airports))]"
   ]
  },
  {
   "cell_type": "markdown",
   "metadata": {},
   "source": [
    "## Correcting for a bias in being late vs not being late\n",
    "Typically, there is much higher number of flights which were not late or cancelled than the ones that were. This creates an imbalance later when trying to classify or fit the data. So I'm getting rid of random rows where the plane was not late.\n",
    "This way the number of rows where flights['late or cancelled']=1 or not is approximately the same. This should make predictions more accurate."
   ]
  },
  {
   "cell_type": "code",
   "execution_count": 13,
   "metadata": {
    "collapsed": true
   },
   "outputs": [],
   "source": [
    "num_late = sum(flights['late or cancelled'])\n",
    "\n",
    "flights_on_time = flights[flights['late or cancelled']==0]\n",
    "\n",
    "flights_orig = flights.copy()\n",
    "\n",
    "flights_on_time = flights_on_time.sample(frac=num_late/flights.shape[0]).reset_index(drop=True)\n",
    "flights_on_time.shape\n",
    "flights = pd.concat([flights[flights['late or cancelled']==1],flights_on_time])\n",
    "flights = flights.sample(frac=1).reset_index(drop=True)"
   ]
  },
  {
   "cell_type": "markdown",
   "metadata": {
    "collapsed": true
   },
   "source": [
    "## Converting categorical values to sparce matrixes\n",
    "At this point, all of the features are categorical, so I need to convert them into sparce matrixes using LabelBinarizer.\n",
    "I tried to do this using pipelines, but it didn't quite work. Apparently, eventhough fit_transform was working just fine for the pipeline, just fit didn't work. I need just fit alone so that later I can apply it to data for which I'll want to make a prediction."
   ]
  },
  {
   "cell_type": "code",
   "execution_count": 14,
   "metadata": {},
   "outputs": [
    {
     "name": "stdout",
     "output_type": "stream",
     "text": [
      "(6645, 198)\n",
      "(54251, 198)\n"
     ]
    }
   ],
   "source": [
    "from sklearn.preprocessing import LabelBinarizer\n",
    "\n",
    "WEEK_LabBin = LabelBinarizer()\n",
    "WEEK_LabBin.fit(flights_orig['WEEK'])\n",
    "WEEK_binarized = np.array(WEEK_LabBin.transform(flights['WEEK']))\n",
    "WEEK_binarized_orig = np.array(WEEK_LabBin.transform(flights_orig['WEEK']))\n",
    "\n",
    "\n",
    "DAY_OF_WEEK_LabBin = LabelBinarizer()\n",
    "DAY_OF_WEEK_LabBin.fit(flights_orig['DAY_OF_WEEK'])\n",
    "DAY_OF_WEEK_binarized = np.array(DAY_OF_WEEK_LabBin.transform(flights['DAY_OF_WEEK']))\n",
    "DAY_OF_WEEK_binarized_orig = np.array(DAY_OF_WEEK_LabBin.transform(flights_orig['DAY_OF_WEEK']))\n",
    "\n",
    "\n",
    "AIRLINE_LabBin = LabelBinarizer()\n",
    "AIRLINE_LabBin.fit(flights_orig['AIRLINE'])\n",
    "AIRLINE_binarized = np.array(AIRLINE_LabBin.transform(flights['AIRLINE']))\n",
    "AIRLINE_binarized_orig = np.array(AIRLINE_LabBin.transform(flights_orig['AIRLINE']))\n",
    "\n",
    "\n",
    "ORIGIN_AIRPORT_LabBin = LabelBinarizer()\n",
    "ORIGIN_AIRPORT_LabBin.fit(flights_orig['ORIGIN_AIRPORT'])\n",
    "ORIGIN_AIRPORT_binarized = np.array(DAY_OF_WEEK_LabBin.transform(flights['ORIGIN_AIRPORT']))\n",
    "ORIGIN_AIRPORT_binarized_orig = np.array(DAY_OF_WEEK_LabBin.transform(flights_orig['ORIGIN_AIRPORT']))\n",
    "\n",
    "\n",
    "DESTINATION_AIRPORT_LabBin = LabelBinarizer()\n",
    "DESTINATION_AIRPORT_LabBin.fit(flights_orig['DESTINATION_AIRPORT'])\n",
    "DESTINATION_AIRPORT_binarized = np.array(DESTINATION_AIRPORT_LabBin.transform(flights['DESTINATION_AIRPORT']))\n",
    "DESTINATION_AIRPORT_binarized_orig = np.array(DESTINATION_AIRPORT_LabBin.transform(flights_orig['DESTINATION_AIRPORT']))\n",
    "\n",
    "\n",
    "SCHEDULED_DEPARTURE_LabBin = LabelBinarizer()\n",
    "SCHEDULED_DEPARTURE_LabBin.fit(flights_orig['SCHEDULED_DEPARTURE'])\n",
    "SCHEDULED_DEPARTURE_binarized = np.array(SCHEDULED_DEPARTURE_LabBin.transform(flights['SCHEDULED_DEPARTURE']))\n",
    "SCHEDULED_DEPARTURE_binarized_orig = np.array(SCHEDULED_DEPARTURE_LabBin.transform(flights_orig['SCHEDULED_DEPARTURE']))\n",
    "\n",
    "\n",
    "# flights_binarized will contain all data in sparce matrix form\n",
    "flights_binarized = np.concatenate((WEEK_binarized,DAY_OF_WEEK_binarized,AIRLINE_binarized,ORIGIN_AIRPORT_binarized,\n",
    "                                    DESTINATION_AIRPORT_binarized,SCHEDULED_DEPARTURE_binarized),axis=1)\n",
    "flights_binarized_orig = np.concatenate((WEEK_binarized_orig,DAY_OF_WEEK_binarized_orig,AIRLINE_binarized_orig,ORIGIN_AIRPORT_binarized_orig,\n",
    "                                    DESTINATION_AIRPORT_binarized_orig,SCHEDULED_DEPARTURE_binarized_orig),axis=1)\n",
    "\n",
    "print(flights_binarized.shape)\n",
    "print(flights_binarized_orig.shape)\n"
   ]
  },
  {
   "cell_type": "markdown",
   "metadata": {},
   "source": [
    "# split into test and training set"
   ]
  },
  {
   "cell_type": "code",
   "execution_count": 15,
   "metadata": {
    "collapsed": true
   },
   "outputs": [],
   "source": [
    "# splitting data into test and training sets\n",
    "from sklearn.model_selection import train_test_split\n",
    "\n",
    "train_set, test_set, train_set_target, test_set_target = train_test_split(flights_binarized, flights['late or cancelled'], test_size = 0.4, random_state=42)"
   ]
  },
  {
   "cell_type": "markdown",
   "metadata": {},
   "source": [
    "# Random forest search"
   ]
  },
  {
   "cell_type": "code",
   "execution_count": 16,
   "metadata": {},
   "outputs": [
    {
     "data": {
      "text/plain": [
       "RandomForestRegressor(bootstrap=True, criterion='mse', max_depth=None,\n",
       "           max_features='auto', max_leaf_nodes=None,\n",
       "           min_impurity_split=1e-07, min_samples_leaf=1,\n",
       "           min_samples_split=2, min_weight_fraction_leaf=0.0,\n",
       "           n_estimators=10, n_jobs=-1, oob_score=False, random_state=None,\n",
       "           verbose=0, warm_start=False)"
      ]
     },
     "execution_count": 16,
     "metadata": {},
     "output_type": "execute_result"
    }
   ],
   "source": [
    "from sklearn.ensemble import RandomForestRegressor\n",
    "forest_reg = RandomForestRegressor(n_jobs=-1)\n",
    "forest_reg.fit(train_set,train_set_target)"
   ]
  },
  {
   "cell_type": "code",
   "execution_count": 17,
   "metadata": {},
   "outputs": [
    {
     "data": {
      "text/plain": [
       "array([[1919,   33],\n",
       "       [  80, 1955]])"
      ]
     },
     "execution_count": 17,
     "metadata": {},
     "output_type": "execute_result"
    }
   ],
   "source": [
    "confusion_matrix(train_set_target,(forest_reg.predict(train_set)).round())"
   ]
  },
  {
   "cell_type": "code",
   "execution_count": 18,
   "metadata": {},
   "outputs": [
    {
     "data": {
      "text/plain": [
       "array([[854, 408],\n",
       "       [510, 886]])"
      ]
     },
     "execution_count": 18,
     "metadata": {},
     "output_type": "execute_result"
    }
   ],
   "source": [
    "confusion_matrix(test_set_target,(forest_reg.predict(test_set)).round())"
   ]
  },
  {
   "cell_type": "markdown",
   "metadata": {},
   "source": [
    "# GridSearch for RandomForest\n",
    "Random Forest did the best so far, so I'll try gridsearch to get the best conditions for random forest model\n",
    "#if I use all of the data instead of a single airport, the best numbers were [{'n_estimators': [150],'max_features':[50],'max_depth':[30]}]"
   ]
  },
  {
   "cell_type": "code",
   "execution_count": 19,
   "metadata": {},
   "outputs": [
    {
     "data": {
      "text/plain": [
       "GridSearchCV(cv=5, error_score='raise',\n",
       "       estimator=RandomForestRegressor(bootstrap=True, criterion='mse', max_depth=None,\n",
       "           max_features='auto', max_leaf_nodes=None,\n",
       "           min_impurity_split=1e-07, min_samples_leaf=1,\n",
       "           min_samples_split=2, min_weight_fraction_leaf=0.0,\n",
       "           n_estimators=10, n_jobs=-1, oob_score=False, random_state=None,\n",
       "           verbose=0, warm_start=False),\n",
       "       fit_params={}, iid=True, n_jobs=1,\n",
       "       param_grid=[{'n_estimators': [75, 100], 'max_features': [10, 20], 'max_depth': [20, 30]}],\n",
       "       pre_dispatch='2*n_jobs', refit=True, return_train_score=True,\n",
       "       scoring='neg_mean_squared_error', verbose=0)"
      ]
     },
     "execution_count": 19,
     "metadata": {},
     "output_type": "execute_result"
    }
   ],
   "source": [
    "from sklearn.model_selection import GridSearchCV\n",
    "\n",
    "param_grid = [{'n_estimators': [75, 100],'max_features':[10, 20],'max_depth':[20, 30]}]\n",
    "forest_reg = RandomForestRegressor(n_jobs=-1)\n",
    "grid_search = GridSearchCV(forest_reg, param_grid, cv=5, scoring='neg_mean_squared_error')\n",
    "grid_search.fit(train_set,train_set_target)"
   ]
  },
  {
   "cell_type": "markdown",
   "metadata": {},
   "source": [
    "# Use PICKLE to save results of the grid search"
   ]
  },
  {
   "cell_type": "code",
   "execution_count": 20,
   "metadata": {
    "collapsed": true
   },
   "outputs": [],
   "source": [
    "import pickle\n",
    "\n",
    "filename = 'finalized_model.sav'\n",
    "pickle.dump(grid_search, open(filename, 'wb'))\n",
    "\n",
    "#loaded_model = pickle.load(open(filename, 'rb'))\n",
    "#result = loaded_model.score(X_test, Y_test)"
   ]
  },
  {
   "cell_type": "markdown",
   "metadata": {},
   "source": [
    "# Confusion Matrix for Training set"
   ]
  },
  {
   "cell_type": "code",
   "execution_count": 21,
   "metadata": {},
   "outputs": [
    {
     "data": {
      "text/plain": [
       "array([[1789,  163],\n",
       "       [ 135, 1900]])"
      ]
     },
     "execution_count": 21,
     "metadata": {},
     "output_type": "execute_result"
    }
   ],
   "source": [
    "# confusion matrix for training set\n",
    "confusion_matrix(train_set_target,(grid_search.predict(train_set)).round())"
   ]
  },
  {
   "cell_type": "code",
   "execution_count": 22,
   "metadata": {},
   "outputs": [
    {
     "data": {
      "text/plain": [
       "RandomForestRegressor(bootstrap=True, criterion='mse', max_depth=30,\n",
       "           max_features=20, max_leaf_nodes=None, min_impurity_split=1e-07,\n",
       "           min_samples_leaf=1, min_samples_split=2,\n",
       "           min_weight_fraction_leaf=0.0, n_estimators=100, n_jobs=-1,\n",
       "           oob_score=False, random_state=None, verbose=0, warm_start=False)"
      ]
     },
     "execution_count": 22,
     "metadata": {},
     "output_type": "execute_result"
    }
   ],
   "source": [
    "grid_search.best_estimator_"
   ]
  },
  {
   "cell_type": "markdown",
   "metadata": {},
   "source": [
    "# Confusion Matrix for Test set"
   ]
  },
  {
   "cell_type": "code",
   "execution_count": 23,
   "metadata": {},
   "outputs": [
    {
     "data": {
      "text/plain": [
       "array([[773, 489],\n",
       "       [403, 993]])"
      ]
     },
     "execution_count": 23,
     "metadata": {},
     "output_type": "execute_result"
    }
   ],
   "source": [
    "# confusion matrix for test set\n",
    "confusion_matrix(test_set_target,(grid_search.predict(test_set)).round())"
   ]
  },
  {
   "cell_type": "markdown",
   "metadata": {
    "collapsed": true
   },
   "source": [
    "predictions = grid_search.predict(train_set)\n",
    "grid_reg_results = pd.DataFrame({'True':train_set_target, 'predict':predictions})"
   ]
  },
  {
   "cell_type": "markdown",
   "metadata": {},
   "source": [
    "grid_reg_results[grid_reg_results['predict']>0.8]['True'].sum()/grid_reg_results[grid_reg_results['predict']>0.8]['True'].shape[0]"
   ]
  },
  {
   "cell_type": "markdown",
   "metadata": {},
   "source": [
    "# Create column \"Comparison\" to show which results is true/false pos/neg\n",
    "True pos = 1, True neg = 2, False pos = 3, false neg = 4"
   ]
  },
  {
   "cell_type": "code",
   "execution_count": 24,
   "metadata": {
    "collapsed": true
   },
   "outputs": [],
   "source": [
    "def comparison_col(x):\n",
    "    # True pos = 1, True neg = 2, False pos = 3, false neg = 4\n",
    "    if (x['True'] == 1) & (x['predict'] > 0.5):\n",
    "        return 1\n",
    "    elif (x['True'] == 0) & (x['predict'] < 0.5):\n",
    "        return 2\n",
    "    elif (x['True'] == 0) & (x['predict'] > 0.5):\n",
    "        return 3\n",
    "    elif (x['True'] == 1) & (x['predict'] < 0.5):\n",
    "        return 4"
   ]
  },
  {
   "cell_type": "code",
   "execution_count": 25,
   "metadata": {},
   "outputs": [],
   "source": [
    "predictions = grid_search.predict(train_set)\n",
    "grid_reg_results = pd.DataFrame({'True':train_set_target, 'predict':predictions})\n",
    "\n",
    "grid_reg_results['Comparison'] = grid_reg_results.apply(comparison_col, axis = 1)"
   ]
  },
  {
   "cell_type": "code",
   "execution_count": 26,
   "metadata": {},
   "outputs": [
    {
     "data": {
      "text/plain": [
       "(0, 1)"
      ]
     },
     "execution_count": 26,
     "metadata": {},
     "output_type": "execute_result"
    },
    {
     "data": {
      "image/png": "[encoded data removed]",
      "text/plain": [
       "<matplotlib.figure.Figure at 0x1a51c6ec898>"
      ]
     },
     "metadata": {},
     "output_type": "display_data"
    }
   ],
   "source": [
    "fig = plt.figure(figsize=(18.5, 10.5))\n",
    "sub1 = fig.add_subplot(211) # instead of plt.subplot(2, 2, 1)\n",
    "sub1.set_title('ALL True predictions (including incorrect ones)', fontsize=18, color=\"blue\")\n",
    "sub1.hist(grid_reg_results[grid_reg_results['True']==1]['predict'],alpha=0.7, bins=31)\n",
    "sub1.set_xlim([0, 1])\n",
    "\n",
    "sub2 = fig.add_subplot(212)\n",
    "sub2.set_title('ALL False predictions (including incorrect ones)', fontsize=18, color=\"blue\")\n",
    "sub2.hist(grid_reg_results[grid_reg_results['True']==0]['predict'],alpha=0.7, bins=31)\n",
    "sub2.set_xlim([0, 1])"
   ]
  },
  {
   "cell_type": "markdown",
   "metadata": {},
   "source": [
    "# Plotting histograms of my results\n",
    "Blue color shows correctly predicted results, orange shows incorrect predictions."
   ]
  },
  {
   "cell_type": "code",
   "execution_count": 27,
   "metadata": {},
   "outputs": [
    {
     "data": {
      "text/plain": [
       "<matplotlib.text.Text at 0x1a50b97bcf8>"
      ]
     },
     "execution_count": 27,
     "metadata": {},
     "output_type": "execute_result"
    },
    {
     "data": {
      "image/png": "[encoded data removed]",
      "text/plain": [
       "<matplotlib.figure.Figure at 0x1a51cfeb908>"
      ]
     },
     "metadata": {},
     "output_type": "display_data"
    }
   ],
   "source": [
    "plt.hist(grid_reg_results[grid_reg_results['Comparison'].isin([1,2])]['predict'],alpha=0.7, bins=30,label='Correct')\n",
    "plt.hist(grid_reg_results[grid_reg_results['Comparison'].isin([3,4])]['predict'],alpha=0.7, bins=30,label='Incorrect')\n",
    "plt.legend(loc='upper left')\n",
    "plt.title('Training Data')"
   ]
  },
  {
   "cell_type": "code",
   "execution_count": 28,
   "metadata": {
    "collapsed": true
   },
   "outputs": [],
   "source": [
    "test_predictions = grid_search.predict(test_set)\n",
    "test_grid_reg_results = pd.DataFrame({'True':test_set_target, 'predict':test_predictions})\n",
    "test_grid_reg_results['Comparison'] = test_grid_reg_results.apply(comparison_col, axis = 1)"
   ]
  },
  {
   "cell_type": "code",
   "execution_count": 29,
   "metadata": {},
   "outputs": [
    {
     "data": {
      "text/plain": [
       "<matplotlib.text.Text at 0x1a50f5e3d68>"
      ]
     },
     "execution_count": 29,
     "metadata": {},
     "output_type": "execute_result"
    },
    {
     "data": {
      "image/png": "[encoded data removed]",
      "text/plain": [
       "<matplotlib.figure.Figure at 0x1a50b0157f0>"
      ]
     },
     "metadata": {},
     "output_type": "display_data"
    }
   ],
   "source": [
    "plt.hist(test_grid_reg_results[test_grid_reg_results['Comparison'].isin([1,2])]['predict'],alpha=0.7, bins=30,label='Correct')\n",
    "plt.hist(test_grid_reg_results[test_grid_reg_results['Comparison'].isin([3,4])]['predict'],alpha=0.7, bins=30,label='Incorrect')\n",
    "plt.legend(loc='upper left')\n",
    "plt.title('Test Data')"
   ]
  },
  {
   "cell_type": "code",
   "execution_count": 30,
   "metadata": {},
   "outputs": [
    {
     "data": {
      "text/plain": [
       "<matplotlib.text.Text at 0x1a51a834630>"
      ]
     },
     "execution_count": 30,
     "metadata": {},
     "output_type": "execute_result"
    },
    {
     "data": {
      "image/png": "[encoded data removed]",
      "text/plain": [
       "<matplotlib.figure.Figure at 0x1a51afbf898>"
      ]
     },
     "metadata": {},
     "output_type": "display_data"
    }
   ],
   "source": [
    "from sklearn.metrics import roc_curve, auc\n",
    "\n",
    "fpr_rf, tpr_rf, _ = roc_curve(test_set_target, test_predictions)\n",
    "\n",
    "plt.figure(1)\n",
    "plt.plot([0, 1], [0, 1], 'k--')\n",
    "plt.plot(fpr_rf, tpr_rf, label='RF')\n",
    "plt.title('ROC Curve for Test Data')"
   ]
  },
  {
   "cell_type": "markdown",
   "metadata": {},
   "source": [
    "# modifying original flights data before balancing late vs. not_late\n",
    "Earlier I exluded big chunk of data to correct for bias, but now I want to see how my predictions look for all the data together. "
   ]
  },
  {
   "cell_type": "code",
   "execution_count": 31,
   "metadata": {
    "collapsed": true
   },
   "outputs": [],
   "source": [
    "orig_predictions = grid_search.predict(flights_binarized_orig)\n",
    "orig_target = flights_orig['late or cancelled']\n",
    "orig_grid_reg_results = pd.DataFrame({'True':orig_target, 'predict':orig_predictions})\n",
    "orig_grid_reg_results['Comparison'] = orig_grid_reg_results.apply(comparison_col, axis = 1)"
   ]
  },
  {
   "cell_type": "code",
   "execution_count": 38,
   "metadata": {},
   "outputs": [
    {
     "data": {
      "text/plain": [
       "(0, 200)"
      ]
     },
     "execution_count": 38,
     "metadata": {},
     "output_type": "execute_result"
    },
    {
     "data": {
      "image/png": "[encoded data removed]",
      "text/plain": [
       "<matplotlib.figure.Figure at 0x1a51bbc56d8>"
      ]
     },
     "metadata": {},
     "output_type": "display_data"
    }
   ],
   "source": [
    "fig = plt.figure(figsize=(18.5, 10.5))\n",
    "sub1 = fig.add_subplot(211) # instead of plt.subplot(2, 2, 1)\n",
    "sub1.set_title('Full Data - Positive predictions only', fontsize=18, color=\"blue\")\n",
    "sub1.hist(orig_grid_reg_results[orig_grid_reg_results['Comparison'].isin([1])]['predict'],alpha=0.7, bins=30,label='True Positive')\n",
    "sub1.hist(orig_grid_reg_results[orig_grid_reg_results['Comparison'].isin([3])]['predict'],alpha=0.7, bins=30,label='False Positive')\n",
    "#sub1.set_xlim([0, 1])\n",
    "\n",
    "sub2 = fig.add_subplot(212)\n",
    "sub2.set_title('Zoomed-in', fontsize=18, color=\"blue\")\n",
    "sub2.hist(orig_grid_reg_results[orig_grid_reg_results['Comparison'].isin([1])]['predict'],alpha=0.7, bins=30,label='True Positive')\n",
    "sub2.hist(orig_grid_reg_results[orig_grid_reg_results['Comparison'].isin([3])]['predict'],alpha=0.7, bins=30,label='False Positive')\n",
    "sub2.set_ylim([0, 200])\n",
    "#sub1.set_xlim([0, 1])"
   ]
  },
  {
   "cell_type": "code",
   "execution_count": 33,
   "metadata": {},
   "outputs": [
    {
     "data": {
      "text/plain": [
       "array([[31557, 19263],\n",
       "       [  538,  2893]])"
      ]
     },
     "execution_count": 33,
     "metadata": {},
     "output_type": "execute_result"
    }
   ],
   "source": [
    "confusion_matrix(orig_target,(orig_predictions).round())"
   ]
  },
  {
   "cell_type": "code",
   "execution_count": 39,
   "metadata": {},
   "outputs": [
    {
     "data": {
      "text/plain": [
       "<matplotlib.text.Text at 0x1a50f310080>"
      ]
     },
     "execution_count": 39,
     "metadata": {},
     "output_type": "execute_result"
    },
    {
     "data": {
      "image/png": "[encoded data removed]",
      "text/plain": [
       "<matplotlib.figure.Figure at 0x1a51cda5c18>"
      ]
     },
     "metadata": {},
     "output_type": "display_data"
    }
   ],
   "source": [
    "from sklearn.metrics import roc_curve, auc\n",
    "\n",
    "fpr_rf, tpr_rf, _ = roc_curve(orig_target, orig_predictions)\n",
    "\n",
    "plt.figure(1)\n",
    "plt.plot([0, 1], [0, 1], 'k--')\n",
    "plt.plot(fpr_rf, tpr_rf, label='RF')\n",
    "plt.title('ROC Curve for Full Data')"
   ]
  },
  {
   "cell_type": "markdown",
   "metadata": {
    "collapsed": true
   },
   "source": [
    "# Short Summary\n",
    "While the ROC curve looks quite good, you can see from the histogram of the full data that the since there is much higher number of instances where the flights were neither delayed more than an hour, not cancelled (as expected), it is hard to make good predictions. It can also be seen in the confusion matrix.\n",
    "\n",
    "Nevertheless, this script can be used to alert passengers regarding higher-than-usual chance of their flights being delayed to cancelled by using predictions with score higher than 0.85."
   ]
  },
  {
   "cell_type": "code",
   "execution_count": null,
   "metadata": {
    "collapsed": true
   },
   "outputs": [],
   "source": []
  }
 ],
 "metadata": {
  "kernelspec": {
   "display_name": "Python 3",
   "language": "python",
   "name": "python3"
  },
  "language_info": {
   "codemirror_mode": {
    "name": "ipython",
    "version": 3
   },
   "file_extension": ".py",
   "mimetype": "text/x-python",
   "name": "python",
   "nbconvert_exporter": "python",
   "pygments_lexer": "ipython3",
   "version": "3.6.1"
  }
 },
 "nbformat": 4,
 "nbformat_minor": 2
}
